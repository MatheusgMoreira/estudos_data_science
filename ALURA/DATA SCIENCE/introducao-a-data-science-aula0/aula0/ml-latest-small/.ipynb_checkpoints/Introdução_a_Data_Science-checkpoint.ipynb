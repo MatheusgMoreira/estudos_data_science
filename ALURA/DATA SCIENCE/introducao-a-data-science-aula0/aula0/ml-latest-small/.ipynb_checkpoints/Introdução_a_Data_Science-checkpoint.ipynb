{
  "cells": [
    {
      "cell_type": "code",
      "execution_count": 2,
      "metadata": {
        "colab": {
          "base_uri": "https://localhost:8080/",
          "height": 206
        },
        "id": "Y8kFHRaRCAHE",
        "outputId": "44d66b58-2c29-4fa5-e2e1-b1f818cc009d"
      },
      "outputs": [
        {
          "ename": "NameError",
          "evalue": "name 'pd' is not defined",
          "output_type": "error",
          "traceback": [
            "\u001b[1;31m---------------------------------------------------------------------------\u001b[0m",
            "\u001b[1;31mNameError\u001b[0m                                 Traceback (most recent call last)",
            "Cell \u001b[1;32mIn[2], line 1\u001b[0m\n\u001b[1;32m----> 1\u001b[0m notas \u001b[38;5;241m=\u001b[39m \u001b[43mpd\u001b[49m\u001b[38;5;241m.\u001b[39mread_csv(\u001b[38;5;124m\"\u001b[39m\u001b[38;5;124mratings.csv\u001b[39m\u001b[38;5;124m\"\u001b[39m)\n\u001b[0;32m      2\u001b[0m notas\u001b[38;5;241m.\u001b[39mhead()\n",
            "\u001b[1;31mNameError\u001b[0m: name 'pd' is not defined"
          ]
        }
      ],
      "source": [
        "import pandas as pd\n",
        "import matplotlib.pyplot as plt\n",
        "\n",
        "notas = pd.read_csv(\"ratings.csv\")\n",
        "notas.head()"
      ]
    },
    {
      "cell_type": "code",
      "execution_count": null,
      "metadata": {
        "colab": {
          "base_uri": "https://localhost:8080/"
        },
        "id": "lnFU743mCyjT",
        "outputId": "029feae2-5374-4ccd-fcb3-636e0f4ddc35"
      },
      "outputs": [],
      "source": [
        "notas.shape"
      ]
    },
    {
      "cell_type": "code",
      "execution_count": null,
      "metadata": {
        "colab": {
          "base_uri": "https://localhost:8080/",
          "height": 206
        },
        "id": "W-zjO7tQDRR1",
        "outputId": "65fccd1c-931c-4d20-efde-a8130e4a114c"
      },
      "outputs": [],
      "source": [
        "notas.columns = [\"usuarioid\", \"filmeId\", \"notas\", \"momento\"]\n",
        "notas.head()"
      ]
    },
    {
      "cell_type": "code",
      "execution_count": null,
      "metadata": {
        "colab": {
          "base_uri": "https://localhost:8080/"
        },
        "id": "cVT5QdwgD231",
        "outputId": "055090f0-e95e-45f7-9a5c-95bba79e6d30"
      },
      "outputs": [],
      "source": [
        "notas['notas'].unique()"
      ]
    },
    {
      "cell_type": "code",
      "execution_count": null,
      "metadata": {
        "colab": {
          "base_uri": "https://localhost:8080/"
        },
        "id": "H7v6p95bETNK",
        "outputId": "ac7d4f49-95b7-4e42-ff14-94b4987798c2"
      },
      "outputs": [],
      "source": [
        "notas['notas'].value_counts()"
      ]
    },
    {
      "cell_type": "code",
      "execution_count": null,
      "metadata": {
        "colab": {
          "base_uri": "https://localhost:8080/"
        },
        "id": "2zvOzZtAEivI",
        "outputId": "69b24a8e-955c-4e61-9ae6-430479501e02"
      },
      "outputs": [],
      "source": [
        "notas[\"notas\"].mean()"
      ]
    },
    {
      "cell_type": "code",
      "execution_count": null,
      "metadata": {
        "colab": {
          "base_uri": "https://localhost:8080/",
          "height": 447
        },
        "id": "6n8gykprFHTK",
        "outputId": "b73db97f-b792-48ed-d537-05d0f63a3297"
      },
      "outputs": [],
      "source": [
        "notas.notas.plot(kind=\"hist\")"
      ]
    },
    {
      "cell_type": "code",
      "execution_count": null,
      "metadata": {
        "colab": {
          "base_uri": "https://localhost:8080/"
        },
        "id": "reDTBYofFVGo",
        "outputId": "d456cc4e-de53-4663-88d3-f9a95c1f29ac"
      },
      "outputs": [],
      "source": [
        "notas.notas.describe()"
      ]
    },
    {
      "cell_type": "code",
      "execution_count": null,
      "metadata": {
        "colab": {
          "base_uri": "https://localhost:8080/",
          "height": 428
        },
        "id": "-WEzkF-EGSu9",
        "outputId": "a7a3bb3d-a9a0-4921-e605-e0680706c936"
      },
      "outputs": [],
      "source": [
        "import seaborn as sns\n",
        "\n",
        "sns.boxplot(notas.notas)"
      ]
    },
    {
      "cell_type": "code",
      "execution_count": null,
      "metadata": {
        "colab": {
          "base_uri": "https://localhost:8080/",
          "height": 206
        },
        "id": "-F8dZO0LGkEJ",
        "outputId": "33fd5291-cac6-41e8-cdeb-a6753b56bb87"
      },
      "outputs": [],
      "source": [
        "filmes = pd.read_csv(\"movies.csv\")\n",
        "filmes.columns = [\"filmeId\", \"titulo\", \"generos\"]\n",
        "filmes.head()"
      ]
    },
    {
      "cell_type": "code",
      "execution_count": null,
      "metadata": {
        "colab": {
          "base_uri": "https://localhost:8080/",
          "height": 206
        },
        "id": "uD3iXr8wIYfs",
        "outputId": "e4e6931e-b9ef-42c6-accd-4d8e00c0d9e0"
      },
      "outputs": [],
      "source": [
        "notas.head()"
      ]
    },
    {
      "cell_type": "markdown",
      "metadata": {
        "id": "gN0xDoxWJSD8"
      },
      "source": [
        "# Analisando algumas notas especificas por filme"
      ]
    },
    {
      "cell_type": "code",
      "execution_count": null,
      "metadata": {
        "colab": {
          "base_uri": "https://localhost:8080/"
        },
        "id": "S73gVbvIIjGa",
        "outputId": "11ab98cd-0638-4587-e010-ce722a6a1d40"
      },
      "outputs": [],
      "source": [
        "notas.query(\"filmeId==1\").notas.mean()"
      ]
    },
    {
      "cell_type": "code",
      "execution_count": null,
      "metadata": {
        "colab": {
          "base_uri": "https://localhost:8080/"
        },
        "id": "PzOP8dY6I3v7",
        "outputId": "b34ef798-5aa0-48a1-8e2e-9deff4274243"
      },
      "outputs": [],
      "source": [
        "notas.query(\"filmeId==2\").notas.mean()"
      ]
    },
    {
      "cell_type": "code",
      "execution_count": null,
      "metadata": {
        "colab": {
          "base_uri": "https://localhost:8080/"
        },
        "id": "wYUs31wuJhXx",
        "outputId": "4dded1b8-0183-4b53-9072-b7e451d22bc1"
      },
      "outputs": [],
      "source": [
        "medias_por_filme = notas.groupby(\"filmeId\").mean().notas\n",
        "medias_por_filme.head()"
      ]
    },
    {
      "cell_type": "code",
      "execution_count": null,
      "metadata": {
        "colab": {
          "base_uri": "https://localhost:8080/",
          "height": 447
        },
        "id": "NzN8uNaTJrqf",
        "outputId": "c6671a63-94ee-4933-95f8-4d80e850fd21"
      },
      "outputs": [],
      "source": [
        "medias_por_filme.plot(kind=\"hist\")"
      ]
    },
    {
      "cell_type": "code",
      "execution_count": null,
      "metadata": {
        "colab": {
          "base_uri": "https://localhost:8080/",
          "height": 428
        },
        "id": "cW4aa-dCK0Ib",
        "outputId": "9f974d66-3464-489c-c832-a9216448711f"
      },
      "outputs": [],
      "source": [
        "sns.boxplot(medias_por_filme)"
      ]
    },
    {
      "cell_type": "code",
      "execution_count": null,
      "metadata": {
        "colab": {
          "base_uri": "https://localhost:8080/",
          "height": 730
        },
        "id": "VfaS69IrLBW9",
        "outputId": "10f429bb-e34b-4b77-9cab-2840be968bb8"
      },
      "outputs": [],
      "source": [
        "tmdb = pd.read_csv(\"tmdb_5000_movies.csv\")\n",
        "tmdb.head()"
      ]
    },
    {
      "cell_type": "code",
      "execution_count": null,
      "metadata": {
        "colab": {
          "base_uri": "https://localhost:8080/"
        },
        "id": "F_GaKcSZNtpU",
        "outputId": "fc78e624-df89-4fc7-b42a-661f33304029"
      },
      "outputs": [],
      "source": [
        "tmdb.original_language.unique()"
      ]
    },
    {
      "cell_type": "code",
      "execution_count": null,
      "metadata": {
        "colab": {
          "base_uri": "https://localhost:8080/",
          "height": 206
        },
        "id": "Gh6nsC_xOxe4",
        "outputId": "424622c5-c6ed-4e67-ea09-72b78751bf51"
      },
      "outputs": [],
      "source": [
        "contagem_de_lingua = tmdb.original_language.value_counts().to_frame().reset_index()\n",
        "contagem_de_lingua.columns = ['original_language' , 'total']\n",
        "contagem_de_lingua.head()"
      ]
    },
    {
      "cell_type": "code",
      "execution_count": null,
      "metadata": {
        "colab": {
          "base_uri": "https://localhost:8080/",
          "height": 467
        },
        "id": "lKNPfYZcQv3O",
        "outputId": "7c4dc029-df3d-4c8a-b5e0-88453c257989"
      },
      "outputs": [],
      "source": [
        "sns.barplot(x=\"original_language\", y=\"total\", data=contagem_de_lingua)"
      ]
    },
    {
      "cell_type": "code",
      "execution_count": null,
      "metadata": {
        "colab": {
          "base_uri": "https://localhost:8080/",
          "height": 523
        },
        "id": "Zqj89qsHR5uu",
        "outputId": "04ae92c5-8a97-4f73-efa9-85bcb2e9e548"
      },
      "outputs": [],
      "source": [
        "sns.catplot(x = 'original_language', kind='count', data = tmdb)"
      ]
    },
    {
      "cell_type": "code",
      "execution_count": null,
      "metadata": {
        "colab": {
          "base_uri": "https://localhost:8080/",
          "height": 1000
        },
        "id": "eXD4rtqeTvnY",
        "outputId": "055d3dff-080f-4da3-9a5f-d53dcd059776"
      },
      "outputs": [],
      "source": [
        "plt.pie(contagem_de_lingua['total'], labels = contagem_de_lingua['original_language'])"
      ]
    },
    {
      "cell_type": "code",
      "execution_count": null,
      "metadata": {
        "colab": {
          "base_uri": "https://localhost:8080/"
        },
        "id": "R1P7gZhTU0Pu",
        "outputId": "2d78eb2f-a0b7-4c74-8365-9698c07f7e5b"
      },
      "outputs": [],
      "source": [
        "contagem_tt_lingua = tmdb.original_language.value_counts()\n",
        "total_geral = contagem_tt_lingua.sum()\n",
        "total_en = contagem_tt_lingua.loc['en']\n",
        "total_resto = total_geral - total_en\n",
        "print(total_en, total_resto)"
      ]
    },
    {
      "cell_type": "code",
      "execution_count": null,
      "metadata": {
        "colab": {
          "base_uri": "https://localhost:8080/",
          "height": 466
        },
        "id": "CMhgKTCVWi-C",
        "outputId": "cf7dbe1b-3b79-443a-d11b-4bcfd14b34b1"
      },
      "outputs": [],
      "source": [
        "dados = {\n",
        "    'lingua' : ['ingles', 'outros'],\n",
        "    'total' : [total_en, total_resto]\n",
        "}\n",
        "dados = pd.DataFrame(dados)\n",
        "sns.barplot(x=\"lingua\", y=\"total\", data=dados)"
      ]
    },
    {
      "cell_type": "code",
      "execution_count": null,
      "metadata": {
        "colab": {
          "base_uri": "https://localhost:8080/",
          "height": 475
        },
        "id": "VRT16RaWW0-u",
        "outputId": "998ddd7a-ebfd-48bc-d163-736161262827"
      },
      "outputs": [],
      "source": [
        "plt.pie(dados['total'], labels = dados['lingua'])"
      ]
    },
    {
      "cell_type": "code",
      "execution_count": null,
      "metadata": {
        "colab": {
          "base_uri": "https://localhost:8080/",
          "height": 628
        },
        "id": "WXh3nq82Xztx",
        "outputId": "c9a84662-f920-440a-a60e-aa40d5215f03"
      },
      "outputs": [],
      "source": [
        "total_por_lingua_de_outros_filmes = tmdb.query(\"original_language != 'en'\").original_language.value_counts()\n",
        "tt_restos = tmdb.query('original_language != \"en\"')\n",
        "plt.figure(figsize=(5,8))\n",
        "sns.catplot(x = 'original_language',\n",
        "            kind='count',\n",
        "            data = tt_restos,\n",
        "            aspect = 2,\n",
        "            palette = 'GnBu_d',\n",
        "            order = total_por_lingua_de_outros_filmes.index)"
      ]
    },
    {
      "cell_type": "code",
      "execution_count": null,
      "metadata": {
        "colab": {
          "base_uri": "https://localhost:8080/",
          "height": 112
        },
        "id": "301E6dCFlBG3",
        "outputId": "32be5406-fc04-4732-fb74-9c309495c314"
      },
      "outputs": [],
      "source": [
        "filmes.head(2)"
      ]
    },
    {
      "cell_type": "code",
      "execution_count": null,
      "metadata": {
        "colab": {
          "base_uri": "https://localhost:8080/"
        },
        "id": "qZeK-xvmoXfX",
        "outputId": "b2c2a679-b7c2-4b93-b9da-e23a3a313b75"
      },
      "outputs": [],
      "source": [
        "notas_do_toy_story = notas.query(\"filmeId==1\")\n",
        "notas_do_jumanji = notas.query(\"filmeId==2\")\n",
        "print(len(notas_do_toy_story), len(notas_do_jumanji))\n"
      ]
    },
    {
      "cell_type": "code",
      "execution_count": null,
      "metadata": {
        "colab": {
          "base_uri": "https://localhost:8080/"
        },
        "id": "zH5_zTuyrQmN",
        "outputId": "b127f78a-dd61-4cb8-ae14-6d20048f71ab"
      },
      "outputs": [],
      "source": [
        "print(\"Nota média do Toy Story %.2f\" % notas_do_toy_story.notas.mean())\n",
        "print(\"Nota média do Jumanji %.2f\" % notas_do_jumanji.notas.mean())"
      ]
    },
    {
      "cell_type": "code",
      "execution_count": null,
      "metadata": {
        "colab": {
          "base_uri": "https://localhost:8080/"
        },
        "id": "Yaui6u08rJ4J",
        "outputId": "2f24ac8c-00af-45f5-ac8e-cc57c9fb5509"
      },
      "outputs": [],
      "source": [
        "print(\"Nota média do Toy Story %.2f\" % notas_do_toy_story.notas.median())\n",
        "print(\"Nota média do Jumanji %.2f\" % notas_do_jumanji.notas.median())"
      ]
    },
    {
      "cell_type": "code",
      "execution_count": null,
      "metadata": {
        "id": "NAjkvaKFrrNX"
      },
      "outputs": [],
      "source": [
        "import numpy as np\n",
        "\n",
        "filme1 = np.append(np.array([2.5] * 10), np.array([3.5] * 10))\n",
        "filme2 = np.append(np.array([5] * 10), np.array([1] * 10))"
      ]
    },
    {
      "cell_type": "code",
      "execution_count": null,
      "metadata": {
        "colab": {
          "base_uri": "https://localhost:8080/"
        },
        "id": "rbI4Yf9SsSPx",
        "outputId": "16cec224-e50f-4648-9838-ebf3c4f7124f"
      },
      "outputs": [],
      "source": [
        "filme1.mean(), filme2.mean()"
      ]
    },
    {
      "cell_type": "code",
      "execution_count": null,
      "metadata": {
        "id": "g9xJ6gE1tFTT"
      },
      "outputs": [],
      "source": [
        "print('ola')"
      ]
    },
    {
      "cell_type": "code",
      "execution_count": null,
      "metadata": {},
      "outputs": [],
      "source": []
    }
  ],
  "metadata": {
    "colab": {
      "provenance": [],
      "toc_visible": true
    },
    "kernelspec": {
      "display_name": "Python 3",
      "name": "python3"
    },
    "language_info": {
      "codemirror_mode": {
        "name": "ipython",
        "version": 3
      },
      "file_extension": ".py",
      "mimetype": "text/x-python",
      "name": "python",
      "nbconvert_exporter": "python",
      "pygments_lexer": "ipython3",
      "version": "3.11.9"
    }
  },
  "nbformat": 4,
  "nbformat_minor": 0
}
